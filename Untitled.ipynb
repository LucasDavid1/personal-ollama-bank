{
 "cells": [
  {
   "cell_type": "code",
   "execution_count": 8,
   "id": "1a84be09-718b-48d7-9398-9d447f83caa4",
   "metadata": {
    "scrolled": true
   },
   "outputs": [],
   "source": [
    "import requests\n",
    "import json\n",
    "import base64\n",
    "\n",
    "\n",
    "def encode_image(image_path):\n",
    "    with open(image_path, \"rb\") as image_file:\n",
    "        return base64.b64encode(image_file.read()).decode('utf-8')\n",
    "\n",
    "def generate_response_with_image(prompt, image_path, model=\"llava\"):\n",
    "    ollama_url = \"http://ollama:11434/api/generate\"\n",
    "    \n",
    "    image_base64 = encode_image(image_path)\n",
    "    data = {\n",
    "        \"model\": model,\n",
    "        \"prompt\": prompt,\n",
    "        \"images\": [image_base64]\n",
    "    }\n",
    "\n",
    "    try:\n",
    "        response = requests.post(ollama_url, json=data, stream=True)\n",
    "        response.raise_for_status()\n",
    "        full_response = \"\"\n",
    "        for line in response.iter_lines():\n",
    "            if line:\n",
    "                decoded_line = json.loads(line)\n",
    "                if 'response' in decoded_line:\n",
    "                    full_response += decoded_line['response']\n",
    "        return full_response.strip()\n",
    "    except requests.exceptions.RequestException as e:\n",
    "        return f\"Error: {str(e)}\"\n",
    "\n",
    "def generate_response(prompt, model=\"llava\"):\n",
    "    ollama_url = \"http://ollama:11434/api/generate\"\n",
    "    \n",
    "    data = {\n",
    "        \"model\": model,\n",
    "        \"prompt\": prompt,\n",
    "    }\n",
    "    \n",
    "    try:\n",
    "        response = requests.post(ollama_url, json=data, stream=True)\n",
    "        response.raise_for_status()\n",
    "        full_response = \"\"\n",
    "        for line in response.iter_lines():\n",
    "            if line:\n",
    "                decoded_line = json.loads(line)\n",
    "                if 'response' in decoded_line:\n",
    "                    full_response += decoded_line['response']\n",
    "        return full_response.strip()\n",
    "    except requests.exceptions.RequestException as e:\n",
    "        return f\"Error: {str(e)}\"\n",
    "\n",
    "def chat(messages, model=\"llava\"):\n",
    "    ollama_url = \"http://ollama:11434/api/chat\"\n",
    "    \n",
    "    data = {\n",
    "        \"model\": model,\n",
    "        \"messages\": messages\n",
    "    }\n",
    "    \n",
    "    try:\n",
    "        response = requests.post(ollama_url, json=data, stream=True)\n",
    "        response.raise_for_status()\n",
    "        full_response = \"\"\n",
    "        for line in response.iter_lines():\n",
    "            if line:\n",
    "                decoded_line = json.loads(line)\n",
    "                if 'message' in decoded_line and 'content' in decoded_line['message']:\n",
    "                    full_response += decoded_line['message']['content']\n",
    "        return full_response.strip()\n",
    "    except requests.exceptions.RequestException as e:\n",
    "        return f\"Error: {str(e)}\"\n",
    "\n",
    "def test_ollama_connection():\n",
    "    try:\n",
    "        response = requests.get(\"http://ollama:11434\")\n",
    "        response.raise_for_status()\n",
    "        return \"Successfully connected to Ollama\"\n",
    "    except requests.exceptions.RequestException as e:\n",
    "        return f\"Failed to connect to Ollama: {str(e)}\"\n",
    "\n",
    "def list_models():\n",
    "    try:\n",
    "        response = requests.get(\"http://ollama:11434/api/tags\")\n",
    "        response.raise_for_status()\n",
    "        return response.json()['models']\n",
    "    except requests.exceptions.RequestException as e:\n",
    "        return f\"Error listing models: {str(e)}\""
   ]
  },
  {
   "cell_type": "code",
   "execution_count": 7,
   "id": "c1cba8fa-3c31-4350-b4cf-bf2ccfd359ac",
   "metadata": {},
   "outputs": [
    {
     "name": "stdout",
     "output_type": "stream",
     "text": [
      "Successfully connected to Ollama\n",
      "Available models: [{'name': 'llava:latest', 'model': 'llava:latest', 'modified_at': '2024-07-14T15:56:03.693664959Z', 'size': 4733363377, 'digest': '8dd30f6b0cb19f555f2c7a7ebda861449ea2cc76bf1f44e262931f45fc81d081', 'details': {'parent_model': '', 'format': 'gguf', 'family': 'llama', 'families': ['llama', 'clip'], 'parameter_size': '7B', 'quantization_level': 'Q4_0'}}]\n",
      "\n",
      "Testing generate_response:\n",
      "Ollama response: Why did the programmer quit his job?\n",
      "\n",
      "Because he didn't get arrays.\n",
      "\n",
      "Testing chat:\n",
      "Ollama chat response: Sure, here's one:\n",
      "\n",
      "Why don't AI algorithms ever get lost?\n",
      "\n",
      "Because they always know where to code!\n"
     ]
    }
   ],
   "source": [
    "\n",
    "\n",
    "print(test_ollama_connection())\n",
    "print(\"Available models:\", list_models())\n",
    "\n",
    "if \"Successfully\" in test_ollama_connection():\n",
    "    print(\"\\nTesting generate_response:\")\n",
    "    response = generate_response(\"Tell me a short joke about programming\")\n",
    "    print(\"Ollama response:\", response)\n",
    "    \n",
    "    print(\"\\nTesting chat:\")\n",
    "    messages = [\n",
    "        {\"role\": \"user\", \"content\": \"Hello, who are you?\"},\n",
    "        {\"role\": \"assistant\", \"content\": \"Hello! I'm an AI assistant created by Anthropic. How can I help you today?\"},\n",
    "        {\"role\": \"user\", \"content\": \"Can you tell me a joke about AI?\"}\n",
    "    ]\n",
    "    chat_response = chat(messages)\n",
    "    print(\"Ollama chat response:\", chat_response)\n",
    "else:\n",
    "    print(\"Skipping tests due to connection error\")"
   ]
  },
  {
   "cell_type": "code",
   "execution_count": 9,
   "id": "baa922d7-b1a4-4861-b054-5d391e1b6fb9",
   "metadata": {},
   "outputs": [
    {
     "data": {
      "text/plain": [
       "'The image shows a video game character, specifically from the \"Fallout\" series, which is a popular post-apocalyptic game. In this specific screen, we can see a menu that appears to be related to cleaning tasks within the game. There are options like \"Cleansing the Commonwealth,\" \"Quartermastery,\" and \"Getting a Cure.\" The setting seems to be from one of the missions in the game where the character has to clean up various items scattered around, possibly after a battle or event in the game. The menu also includes a timer that counts down from 10:27 to 10:28 PM and a status bar that reads \"Clear out Super Mart,\" suggesting that the task at hand is related to clearing out an area called Super Mart. The overall look of the image suggests it\\'s from a retro-styled game with pixelated graphics, which is characteristic of many games from the late 90s and early 2000s.'"
      ]
     },
     "execution_count": 9,
     "metadata": {},
     "output_type": "execute_result"
    }
   ],
   "source": [
    "generate_response_with_image(\"What's in this image?\", \"./pipboy.png\")"
   ]
  },
  {
   "cell_type": "code",
   "execution_count": 22,
   "id": "deff4fa7-af55-4eb9-9ce5-d17b38b1654c",
   "metadata": {},
   "outputs": [
    {
     "data": {
      "text/plain": [
       "'```json\\n{\\n  \"user\": \"JUAN PEREZ\",\\n  \"account_type\": \"CUENTA VISTA\",\\n  \"ejecutivo\": \"PAULO DIAZ\",\\n  \"sucursal\": \"OFICINA BLA BLA\",\\n  \"account_number\": \"XXXXXXXblabla\",\\n  \"cartola_number\": 0,\\n  \"currency\": \"PESOS\",\\n  \"transactions\": [\\n    {\\n      \"date\": \"31/05\",\\n      \"detail\": \"PAGO: CASA SOMETHING\",\\n      \"sucursal\": \"INTERNET\",\\n      \"cargo\": 10,\\n      \"abono\": 0,\\n      \"saldo\": 990\\n    }\\n  ]\\n}\\n```'"
      ]
     },
     "execution_count": 22,
     "metadata": {},
     "output_type": "execute_result"
    }
   ],
   "source": [
    "headers = \"FECHA DIA/MES,  DETALLE DE TRANSACCION, SUCURSAL, N° DOCTO, MONTO CHEQUES O CARGOS, MONTO DEPOSITOS O ABONOS, SALDO\"\n",
    "response_example = dict(\n",
    "    user=\"juan perez\",\n",
    "    email=\"mail@mail.com\",\n",
    "    account_type=\"cuenta vista\",\n",
    "    ejecutivo=\"paulo diaz\",\n",
    "    sucursal=\"oficina bla bla\",\n",
    "    account_number=\"XXXXXXXblabla\",\n",
    "    cartola_number=0,\n",
    "    currency=\"pesos\",\n",
    "    from_date=\"01/01/2020\",\n",
    "    to_date=\"01/02/2020\",\n",
    "    transactions=[\n",
    "        dict(\n",
    "            date=\"31/05\",\n",
    "            detail=\"PAGO: casa something\",\n",
    "            sucursal=\"INTERNET\",\n",
    "            cargo=10,\n",
    "            abono=0,\n",
    "            saldo=990\n",
    "        )\n",
    "    ]\n",
    ")\n",
    "response = generate_response_with_image(\n",
    "    f\"Extract all the bank information. Return the information in a valid JSON format. Do not include any explanations or additional text outside the JSON structure. This is an example of the response format data: {response_example}.\",\n",
    "    \"./cartola.png\"\n",
    ")\n",
    "response"
   ]
  },
  {
   "cell_type": "code",
   "execution_count": 23,
   "id": "0dfe9537-316a-4c69-996f-ab4a13beb85d",
   "metadata": {},
   "outputs": [
    {
     "data": {
      "text/plain": [
       "{'user': 'JUAN PEREZ',\n",
       " 'account_type': 'CUENTA VISTA',\n",
       " 'ejecutivo': 'PAULO DIAZ',\n",
       " 'sucursal': 'OFICINA BLA BLA',\n",
       " 'account_number': 'XXXXXXXblabla',\n",
       " 'cartola_number': 0,\n",
       " 'currency': 'PESOS',\n",
       " 'transactions': [{'date': '31/05',\n",
       "   'detail': 'PAGO: CASA SOMETHING',\n",
       "   'sucursal': 'INTERNET',\n",
       "   'cargo': 10,\n",
       "   'abono': 0,\n",
       "   'saldo': 990}]}"
      ]
     },
     "execution_count": 23,
     "metadata": {},
     "output_type": "execute_result"
    }
   ],
   "source": [
    "json_string = response.strip().lstrip('```json').rstrip('```')\n",
    "\n",
    "json.loads(json_string)"
   ]
  },
  {
   "cell_type": "code",
   "execution_count": null,
   "id": "fe61b738-e142-443d-9998-96cf1748afb2",
   "metadata": {},
   "outputs": [],
   "source": []
  }
 ],
 "metadata": {
  "kernelspec": {
   "display_name": "Python 3 (ipykernel)",
   "language": "python",
   "name": "python3"
  },
  "language_info": {
   "codemirror_mode": {
    "name": "ipython",
    "version": 3
   },
   "file_extension": ".py",
   "mimetype": "text/x-python",
   "name": "python",
   "nbconvert_exporter": "python",
   "pygments_lexer": "ipython3",
   "version": "3.11.6"
  }
 },
 "nbformat": 4,
 "nbformat_minor": 5
}
